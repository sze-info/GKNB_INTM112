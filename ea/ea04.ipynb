{
 "cells": [
  {
   "cell_type": "markdown",
   "id": "efc06c7c-2261-423a-be2d-927250868569",
   "metadata": {},
   "source": [
    "# 4. előadás"
   ]
  },
  {
   "cell_type": "markdown",
   "id": "fbc616d3-4f13-4d13-a084-045d39f1ef61",
   "metadata": {},
   "source": [
    "## Tartalom\n",
    "* Adatszerkezetek: ```tuple```, ```list```, ```set```\n",
    "* A ```for``` ciklus\n",
    "* A ```range``` függvény használata\n"
   ]
  },
  {
   "cell_type": "markdown",
   "id": "91aaa3e9-9765-402e-b604-e137765bce57",
   "metadata": {},
   "source": [
    "## Alapvető adatszerkezetek"
   ]
  },
  {
   "cell_type": "markdown",
   "id": "05b9cdcd-328c-444e-a7ff-61a89630062b",
   "metadata": {},
   "source": [
    "Sokszor előfordul olyan szituáció, hogy egyszerre több adattal (szöveggel, számmal stb.) kell dolgoznunk. Például több adaton szeretnénk végrehajtani ugyanolyan műveleteket, ugyanazt a számítást. Arra is sokszor van példa, hogy több adatnak csak együttesen van értelme, külön-külön nem tudunk velük mit kezdeni.\n",
    "\n",
    "Ilyen helyzetekben szükség van arra, hogy ezeket az adatokat együttesen tudjuk kezelni, tárolni és felhasználni. Erre szolgálnak különféle adatszerkezetek. Ezekből 3 alapvetőt biztosít számunkra a Python, melyek elsőre nagyon hasonlónak tűnnek, de mindegyiknek megvan a maga szerepe. Ezek a következők:\n",
    "* lista (```list```),\n",
    "* rendezett n-es (```tuple```),\n",
    "* halmaz (```set```).\n",
    "\n",
    "### Lista (```list```)\n",
    "\n",
    "A lista segítségével adatok rendezett gyűjteményét érjük el. Ez azt jelenti, hogy tetszőleges adatokat tudunk benne tárolni. A változóknál megtanultuk, hogy azok minig csak egy értéket képesek tárolni. A lista egy időben több érték tárolására is alkalmas, és az értékeket rendezetten tárolja. Azaz minden egyes elemnek megvan a pozíciója a sorban.\n",
    "\n",
    "Nézzünk egy egyszerű példát. Készítsünk egy listát, ami a kedvenc gyümölcseinket tartalmazza!"
   ]
  },
  {
   "cell_type": "code",
   "execution_count": 1,
   "id": "216cff89-bbb7-419f-8a0b-7755c3d5aa23",
   "metadata": {},
   "outputs": [],
   "source": [
    "fruits = [\"maracuja\", \"szilva\", \"földicseresznye\"]"
   ]
  },
  {
   "cell_type": "markdown",
   "id": "098ade56-d0cd-42ad-90b4-61ee56347f69",
   "metadata": {},
   "source": [
    "A ```fruits``` változó most egy listát tárol el. Egy olyan listát, amelynek három eleme van, mindhárom eleme egy-egy ```str``` típusú adat.\n",
    "A listát mindig szögletes zárójelpár jelöli. A zárójelpár között soroljuk fel a lista elemeit. A lista elemei bármilyen típusú adatok lehetnek.\n",
    "\n",
    "Nézzük meg miket tudunk csinálni egy ilyen egyszerű listával!\n",
    "\n",
    "A ```print``` függvény segítségével, más változókhoz hasonlóan ki tudjuk írni a kimenetre. Lista esetén egy felsorolást fogunk kapni annak tartalmáról."
   ]
  },
  {
   "cell_type": "code",
   "execution_count": 2,
   "id": "0d91e2f8-e4dc-4ad9-9f06-63fd477ba101",
   "metadata": {},
   "outputs": [
    {
     "name": "stdout",
     "output_type": "stream",
     "text": [
      "['maracuja', 'szilva', 'földicseresznye']\n"
     ]
    }
   ],
   "source": [
    "print(fruits)"
   ]
  },
  {
   "cell_type": "markdown",
   "id": "97a478fd-7d99-4f5f-966a-5ec7060a387f",
   "metadata": {},
   "source": [
    "A listákat ugyanolyan módon tudjuk indexelni, mint az ```str``` típusú szövegeket. Ügyeljünk rá, hogy az első elem indexe most is 0!\n",
    "\n",
    "Lekérhetjük egy adott indexen található elemét:"
   ]
  },
  {
   "cell_type": "code",
   "execution_count": 3,
   "id": "72c8b995-6802-45d3-a8c5-a6d51471b0ae",
   "metadata": {},
   "outputs": [
    {
     "name": "stdout",
     "output_type": "stream",
     "text": [
      "maracuja\n"
     ]
    }
   ],
   "source": [
    "print(fruits[0])"
   ]
  },
  {
   "cell_type": "markdown",
   "id": "7e629759-36fb-4cc1-9072-f53d2405094d",
   "metadata": {},
   "source": [
    "Negatív értékekkel is indexelhetünk, a módszer ugyanaz:"
   ]
  },
  {
   "cell_type": "code",
   "execution_count": 4,
   "id": "90ba20da-0b8b-46e0-8e54-e3f232278c20",
   "metadata": {},
   "outputs": [
    {
     "name": "stdout",
     "output_type": "stream",
     "text": [
      "földicseresznye\n"
     ]
    }
   ],
   "source": [
    "print(fruits[-1])"
   ]
  },
  {
   "cell_type": "markdown",
   "id": "e12505f4-78f5-43e1-bf8d-9ebe491dd5ea",
   "metadata": {},
   "source": [
    "De a szeletelés (slicing) művelet is ugyanúgy működik. Kérjük le az első két elemét:"
   ]
  },
  {
   "cell_type": "code",
   "execution_count": 5,
   "id": "aab5f474-5199-4c10-94de-13972bcc82dc",
   "metadata": {},
   "outputs": [
    {
     "name": "stdout",
     "output_type": "stream",
     "text": [
      "['maracuja', 'szilva']\n"
     ]
    }
   ],
   "source": [
    "print(fruits[0:2])"
   ]
  },
  {
   "cell_type": "markdown",
   "id": "503971e5-eb33-4f2e-9472-050297c80553",
   "metadata": {},
   "source": [
    "A már ismert ```len``` függvénnyel lekérdezhetjük egy lista elemszámát:"
   ]
  },
  {
   "cell_type": "code",
   "execution_count": 6,
   "id": "5d595d88-fbe2-43e1-b9fa-2760dbcf98d2",
   "metadata": {},
   "outputs": [
    {
     "name": "stdout",
     "output_type": "stream",
     "text": [
      "3\n"
     ]
    }
   ],
   "source": [
    "print(len(fruits))"
   ]
  },
  {
   "cell_type": "markdown",
   "id": "b33c8a41-6341-410b-bb5d-7155aeba6d54",
   "metadata": {},
   "source": [
    "Mindezek alapján már meg tudjuk tenni azt, hogy egy ```while``` ciklus segítségével végig indexeljünk egy lista elemein. A ciklusváltozóval (```i```) a lista elemszámáig iterálunk, minden iterációban kiírjuk az ```i```-edik elemet, majd nem felejtkezünk el a ciklusváltozó inkrementálásáról sem."
   ]
  },
  {
   "cell_type": "code",
   "execution_count": 7,
   "id": "d4a2b9e2-4259-4201-8fdb-d0cf0a2e4250",
   "metadata": {},
   "outputs": [
    {
     "name": "stdout",
     "output_type": "stream",
     "text": [
      "maracuja\n",
      "szilva\n",
      "földicseresznye\n"
     ]
    }
   ],
   "source": [
    "i = 0\n",
    "while i < len(fruits):\n",
    "    print(fruits[i])\n",
    "    i += 1"
   ]
  },
  {
   "cell_type": "markdown",
   "id": "02afac14-ca9a-4c1a-ba38-23f656567874",
   "metadata": {},
   "source": [
    "A szemléltetés kedvéért próbáljuk meg bejárni a listát a végétól az elejéig:"
   ]
  },
  {
   "cell_type": "code",
   "execution_count": 8,
   "id": "a12b640f-02e4-4fd3-8bca-8885b3b8eb68",
   "metadata": {},
   "outputs": [
    {
     "name": "stdout",
     "output_type": "stream",
     "text": [
      "földicseresznye\n",
      "szilva\n",
      "maracuja\n"
     ]
    }
   ],
   "source": [
    "i = len(fruits) - 1\n",
    "while i >= 0:\n",
    "    print(fruits[i])\n",
    "    i -= 1"
   ]
  },
  {
   "cell_type": "markdown",
   "id": "8e9c66aa-3f8c-469e-a3be-f5558910f16c",
   "metadata": {},
   "source": [
    "Az ```in``` operátort listák esetén is tudjuk alkalmazni, működése nagyon hasonló, mint a string-ek esetén már láttuk! Lista esetén az ```in``` operátor megadja, hogy az operátor előtti adat szerepel e az operátor utáni listán:"
   ]
  },
  {
   "cell_type": "code",
   "execution_count": 9,
   "id": "dd114afe-5b8d-4a6f-bf79-1eb0d73cdf66",
   "metadata": {},
   "outputs": [
    {
     "name": "stdout",
     "output_type": "stream",
     "text": [
      "Nem szereted a banánt.\n"
     ]
    }
   ],
   "source": [
    "if \"banán\" in fruits:\n",
    "    print(\"Szereted a banánt!\")\n",
    "else:\n",
    "    print(\"Nem szereted a banánt.\")"
   ]
  },
  {
   "cell_type": "markdown",
   "id": "36e99683-ea32-4a41-8cc9-8925b258f042",
   "metadata": {},
   "source": [
    "Egy lista keverten tartalmazhat több féle adatot:"
   ]
  },
  {
   "cell_type": "code",
   "execution_count": 10,
   "id": "76188baa-4159-412b-9024-d98237032890",
   "metadata": {},
   "outputs": [
    {
     "name": "stdout",
     "output_type": "stream",
     "text": [
      "['alma', 42, False, 1.1428571428571428]\n"
     ]
    }
   ],
   "source": [
    "l = [\"alma\", 42, False, 1*2**3/7]\n",
    "print(l)"
   ]
  },
  {
   "cell_type": "markdown",
   "id": "3b1e283a-d3da-4988-9116-945b4b27f97f",
   "metadata": {},
   "source": [
    "Ritka, hogy ilyen módon használjuk a listákat, de bizonyos esetekben hasznos lehet ez a tulajdonsága.\n",
    "\n",
    "Természetesen, ha egy lista bármit tartalmazhat, akkor ebbe maga a lista is beletartozik. Tehát egy lista tartalmazhat egy másik listát:"
   ]
  },
  {
   "cell_type": "code",
   "execution_count": 11,
   "id": "183b48fc-06cd-48dc-94ea-e127c76dde31",
   "metadata": {},
   "outputs": [
    {
     "name": "stdout",
     "output_type": "stream",
     "text": [
      "1\n",
      "[2, 3]\n",
      "[4, [5, 6]]\n"
     ]
    }
   ],
   "source": [
    "l = [1, [2, 3], [4, [5, 6]]]\n",
    "\n",
    "i = 0\n",
    "while i < len(l):\n",
    "    print(l[i])\n",
    "    i += 1"
   ]
  },
  {
   "cell_type": "markdown",
   "id": "7475a9b4-d504-410f-89db-1d0c3bfe0bf5",
   "metadata": {},
   "source": [
    "A fenti példában ```l``` egy 3 elemű lista. Az első eleme egy ```int```. A második eleme egy ```list```, ami 2 darab ```int``` értéket tartalmaz. A harmadik eleme ismét egy ```list``` típus, melynek szintén két eleme van. Az első eleme egy ```int```, a második azonban egy ```list```, ami további két ```int``` értékből áll.\n",
    "\n",
    "A string-ekkel ellentétben a lista elemeit utólag is tudjuk módosítani az indexükkel történő hivatkozás által:"
   ]
  },
  {
   "cell_type": "code",
   "execution_count": 12,
   "id": "a90a51db-ff82-4a26-8b04-923fdcea79d1",
   "metadata": {},
   "outputs": [
    {
     "name": "stdout",
     "output_type": "stream",
     "text": [
      "['maracuja', 'szilva', 'földicseresznye']\n",
      "['passiógyümölcs', 'szilva', 'földicseresznye']\n"
     ]
    }
   ],
   "source": [
    "print(fruits)\n",
    "fruits[0] = \"passiógyümölcs\"\n",
    "print(fruits)"
   ]
  },
  {
   "cell_type": "markdown",
   "id": "da519a90-cf57-482b-811a-f44a64094b18",
   "metadata": {},
   "source": [
    "#### Feladat: Listában tárolt számok szummázása\n",
    "\n",
    "Legyen egy listánk számokkal. Azt szeretnénk, hogy összegezzük a pozitív értékeket és ennek eredményét jelenítsük meg a kimeneten."
   ]
  },
  {
   "cell_type": "code",
   "execution_count": 13,
   "id": "1e585b5c-c527-4da2-b5a2-12e25e12d170",
   "metadata": {},
   "outputs": [
    {
     "name": "stdout",
     "output_type": "stream",
     "text": [
      "440\n"
     ]
    }
   ],
   "source": [
    "# A values lista tárolja az értékeket. Ezek alapján szeretnénk a szummát képezni.\n",
    "values = [-2, 34, -61, 34, -50, -25, -4, -59, 98, 43, 46, 16, 23, -34, 0, 75, 63, -23, -40, 8]\n",
    "\n",
    "# Ciklusváltozó\n",
    "i = 0\n",
    "\n",
    "# A szumma tárolására szolgál.\n",
    "sum = 0\n",
    "\n",
    "# A while ciklussal végig iterálunk a values lista minden elemén.\n",
    "while i < len(values):\n",
    "    # Eldöntjük, hogy az aktuális elem pozitív előjelű vagy sem.\n",
    "    if values[i] > 0:\n",
    "        # Ha pozitív az i-edik érték, akkor hozzáadjuk a sum változóhoz.\n",
    "        sum += values[i]\n",
    "    # Nem felejtjük el inkrementálni a ciklusváltozót.\n",
    "    i += 1\n",
    "\n",
    "# Megjelenítjük a szummázás eredményét.\n",
    "print(sum)"
   ]
  },
  {
   "cell_type": "markdown",
   "id": "5a4209c9-6d72-4aae-8afe-897c305d4a63",
   "metadata": {},
   "source": [
    "Listák esetén értelmezett az összeadás és a szorzás művelete is. Nézzük meg előbb az összeadást! Két tetszőleges listát össze tudunk adni, ami azt jelenti, hogy a két listát egymáshoz fűzi és eredményül egy új listát kapunk, amely mindkét lista elemeit tartalmazza."
   ]
  },
  {
   "cell_type": "code",
   "execution_count": 14,
   "id": "80ae12b4-d33c-4430-88b5-3bd8d32841bb",
   "metadata": {},
   "outputs": [
    {
     "name": "stdout",
     "output_type": "stream",
     "text": [
      "a [1, 2, 3]\n",
      "b [5, 6, 7, 8]\n",
      "c [1, 2, 3, 5, 6, 7, 8]\n"
     ]
    }
   ],
   "source": [
    "a = [1, 2, 3]\n",
    "b = [5, 6, 7, 8]\n",
    "c = a + b\n",
    "print(\"a\", a)\n",
    "print(\"b\", b)\n",
    "print(\"c\", c)"
   ]
  },
  {
   "cell_type": "markdown",
   "id": "5861aaab-90ea-424f-b79d-d94a2c05acff",
   "metadata": {},
   "source": [
    "Láthatjuk, hogy az ősszefűzés során a két lista elemei nem keverednek. Az eredményül kapott lista elején az összeadás operátor bal oldalán álló lista elemei szerepelnek, majd ez után következnek az operátor jobb oldalán álló lista elemei."
   ]
  },
  {
   "cell_type": "markdown",
   "id": "83c743d4-f2d0-44ae-a594-808a22833c26",
   "metadata": {},
   "source": [
    "A szorzás művelet logikája ugyanaz, mint a string-ek esetén már láttuk. Szorzást egy lista és egy egész között tudunk megfeleltetni, ami visszavezethető összeadás műveletre. Azt pedig már tudjuk, hogy mit csinál. A szorzásban szereplő listát a szorzásban szereplő egész darabszor fogja egymás után fűzni."
   ]
  },
  {
   "cell_type": "code",
   "execution_count": 15,
   "id": "73a99f1d-36a1-4d58-a50a-ebbb3c1a824e",
   "metadata": {},
   "outputs": [
    {
     "name": "stdout",
     "output_type": "stream",
     "text": [
      "d0 [1, 2, 3, 1, 2, 3]\n",
      "d1 [1, 2, 3, 1, 2, 3]\n",
      "e0 [5, 6, 7, 8, 5, 6, 7, 8, 5, 6, 7, 8, 5, 6, 7, 8]\n",
      "e1 [5, 6, 7, 8, 5, 6, 7, 8, 5, 6, 7, 8, 5, 6, 7, 8]\n"
     ]
    }
   ],
   "source": [
    "d0 = a * 2\n",
    "d1 = a + a\n",
    "e0 = b * 4\n",
    "e1 = b + b + b + b\n",
    "print(\"d0\", d0)\n",
    "print(\"d1\", d1)\n",
    "print(\"e0\", e0)\n",
    "print(\"e1\", e1)"
   ]
  },
  {
   "cell_type": "markdown",
   "id": "12c6f3cb-7ab4-4b11-a90d-7e5cf8d0c855",
   "metadata": {},
   "source": [
    "A fenti példában látjuk, hogy ```d0``` és ```d1``` eredménye ugyanaz lett, ugyanazt a műveletet hajtottuk végre, csak más módon. Ugyanez a helyzet az ```e0``` és ```e1``` változók esetén.\n",
    "\n",
    "Ahogy az ```str``` típusnál is láttuk, úgy a ```list``` típusnak is vannak beépített függvényei. Ezek közül nézzü meg a legfontosabbakat.\n",
    "\n",
    "* ```append```\n",
    "Segítségével egy létező listához tudunk új elemet fűzni. Az új elem mindig a lista végére fog kerülni."
   ]
  },
  {
   "cell_type": "code",
   "execution_count": 16,
   "id": "2eb777fd-42e9-4a08-831d-8a5dd33216d4",
   "metadata": {},
   "outputs": [
    {
     "name": "stdout",
     "output_type": "stream",
     "text": [
      "['passiógyümölcs', 'szilva', 'földicseresznye']\n",
      "['passiógyümölcs', 'szilva', 'földicseresznye', 'körte']\n"
     ]
    }
   ],
   "source": [
    "print(fruits)\n",
    "fruits.append(\"körte\")\n",
    "print(fruits)"
   ]
  },
  {
   "cell_type": "markdown",
   "id": "85abb45b-c6bb-42e1-962c-d75c2b8cb2d8",
   "metadata": {},
   "source": [
    "Ezt gyakran alkalmazzuk úgy, hogy kezdetben egy üres listát hozzukn létre, majd azt bővítjük (pl. felhasználói bemenet által). Ha üres szögletes zárójelpárt adunnk meg, akkor az 0 elemű listát eredményez."
   ]
  },
  {
   "cell_type": "code",
   "execution_count": 17,
   "id": "1564ce1e-a7ee-471e-b2ff-5245da8ac99e",
   "metadata": {},
   "outputs": [
    {
     "name": "stdout",
     "output_type": "stream",
     "text": [
      "data elemszáma: 0\n",
      "data elemei: []\n",
      "data elemszáma: 2\n",
      "data elemei: [-1, 12]\n"
     ]
    }
   ],
   "source": [
    "data = []\n",
    "\n",
    "print(\"data elemszáma:\", len(data))\n",
    "print(\"data elemei:\", data)\n",
    "\n",
    "data.append(-1)\n",
    "data.append(12)\n",
    "\n",
    "print(\"data elemszáma:\", len(data))\n",
    "print(\"data elemei:\", data)"
   ]
  },
  {
   "cell_type": "markdown",
   "id": "59b66dd3-d6ee-40f1-8ff2-e64918cef093",
   "metadata": {},
   "source": [
    "* ```clear```\n",
    "\n",
    "A lista összes elemét törli, üres listát kapunk."
   ]
  },
  {
   "cell_type": "code",
   "execution_count": 18,
   "id": "cd4e4df2-9ceb-421e-9c6f-316721ce4be6",
   "metadata": {},
   "outputs": [
    {
     "name": "stdout",
     "output_type": "stream",
     "text": [
      "[-1, 12]\n",
      "[]\n"
     ]
    }
   ],
   "source": [
    "print(data)\n",
    "\n",
    "data.clear()\n",
    "\n",
    "print(data)"
   ]
  },
  {
   "cell_type": "markdown",
   "id": "b3c1a7c1-2e14-40ce-b9c3-fd4b4ec62710",
   "metadata": {},
   "source": [
    "* ```copy```\n",
    "\n",
    "Másolatot készít a listából, visszatérési értékként kapjuk meg a lista másolatát."
   ]
  },
  {
   "cell_type": "code",
   "execution_count": 19,
   "id": "e5a6914f-eeee-460c-a488-05da9c547e6f",
   "metadata": {},
   "outputs": [
    {
     "name": "stdout",
     "output_type": "stream",
     "text": [
      "[1, 2, 3]\n",
      "[1, 2, 3]\n"
     ]
    }
   ],
   "source": [
    "a = [1, 2, 3]\n",
    "b = a.copy()\n",
    "\n",
    "print(a)\n",
    "print(b)"
   ]
  },
  {
   "cell_type": "markdown",
   "id": "bf768fb1-8961-4f48-b761-f6bd63d2d999",
   "metadata": {},
   "source": [
    "Itt egy nagyon fontos dolgot meg kell nézni! Amikor a számok (```int```, ```float```) tárolását és használatát tanultuk, akkor megnéztük, hogy számok esetén tudunk ilyet csinálni:"
   ]
  },
  {
   "cell_type": "code",
   "execution_count": 20,
   "id": "cef35556-6c12-45fb-b228-1fc24a13204a",
   "metadata": {},
   "outputs": [
    {
     "name": "stdout",
     "output_type": "stream",
     "text": [
      "10\n",
      "10\n"
     ]
    }
   ],
   "source": [
    "x = 10\n",
    "y = x\n",
    "\n",
    "print(x)\n",
    "print(y)"
   ]
  },
  {
   "cell_type": "markdown",
   "id": "2725d748-1df8-4a37-8b52-0c53984185b2",
   "metadata": {},
   "source": [
    "Ezzel gyakorlatilag az ```x``` tartalmát átmásoltuk az ```y``` változóba. Felmerülhet a kérdés, hogy lista esetén ugyanez a mechanizmus nem működhet? Nézzük meg!"
   ]
  },
  {
   "cell_type": "code",
   "execution_count": 21,
   "id": "8978ced4-48f3-4051-8d0f-28c3daa77186",
   "metadata": {},
   "outputs": [
    {
     "name": "stdout",
     "output_type": "stream",
     "text": [
      "[1, 2, 3]\n",
      "[1, 2, 3]\n"
     ]
    }
   ],
   "source": [
    "a = [1, 2, 3]\n",
    "b = a\n",
    "\n",
    "print(a)\n",
    "print(b)"
   ]
  },
  {
   "cell_type": "markdown",
   "id": "d8702c38-b06c-4ae5-a1dd-c89cbac33db4",
   "metadata": {},
   "source": [
    "Látszólag működik, de csak látszólag! Itt egy nagyon fontos különbség van az előbbi ```y = x``` és a mostani ```b = a``` értékadások között. Amikor az ```y = x``` értékadást hajtottuk végre, akkor az ```x``` tartalmából egy másolat készült, ez lett az ```y```. Listák esetén ez nem így történik. A ```b = a``` értékadásnál nem készül másolat az ```a``` listáról, hanem ```b``` változó fizikailag is ugyanazt a listát fogja tartalmazni, mint az ```a``` változó. Gyakorlatilag egy olyan listánk lett, amit két névvel (két változóval) is elérünk. Az ilyen esetben a ```b``` változót fedőnévnek (alias) nevezzük.\n",
    "\n",
    "Ezt a legegyszerűbb a következő kóddal tudjuk szemléltetni:"
   ]
  },
  {
   "cell_type": "code",
   "execution_count": 22,
   "id": "8c5a87f7-5e58-471c-8fc1-734bc56030d1",
   "metadata": {},
   "outputs": [
    {
     "name": "stdout",
     "output_type": "stream",
     "text": [
      "a [1, 2, 3]\n",
      "b [1, 2, 3]\n",
      "a [100, 2, 3]\n",
      "b [100, 2, 3]\n"
     ]
    }
   ],
   "source": [
    "print(\"a\", a)\n",
    "print(\"b\", b)\n",
    "\n",
    "a[0] = 100\n",
    "\n",
    "print(\"a\", a)\n",
    "print(\"b\", b)"
   ]
  },
  {
   "cell_type": "markdown",
   "id": "59d47053-826e-4ce1-8192-94e49ce0fa3c",
   "metadata": {},
   "source": [
    "Azt látjuk, hogy az ```a``` listának az 0. indexű elemét átírtuk 100-ra. Azonban ez a változás a ```b``` listán is érvényben van, hiszen a két név (```a``` és ```b```) ugyanarra a fizikai listára mutat.\n",
    "\n",
    "Ezzel szemben a ```copy``` művelet készít egy másolatot a listából, így a két lista valóban különböző lesz:"
   ]
  },
  {
   "cell_type": "code",
   "execution_count": 23,
   "id": "fcda34fe-c8d2-4b4f-a218-71a304e288b4",
   "metadata": {},
   "outputs": [
    {
     "name": "stdout",
     "output_type": "stream",
     "text": [
      "a [1, 2, 3]\n",
      "b [1, 2, 3]\n",
      "a [100, 2, 3]\n",
      "b [1, 2, 3]\n"
     ]
    }
   ],
   "source": [
    "a = [1, 2, 3]\n",
    "b = a.copy()\n",
    "\n",
    "print(\"a\", a)\n",
    "print(\"b\", b)\n",
    "\n",
    "a[0] = 100\n",
    "\n",
    "print(\"a\", a)\n",
    "print(\"b\", b)"
   ]
  },
  {
   "cell_type": "markdown",
   "id": "7ef3c6c3-740f-43fb-9db8-f81708766b90",
   "metadata": {},
   "source": [
    "Látható, hogy miután módosítottuk az ```a``` lista 0. indexű elemét, ez semmilyen kihatással nem volt a ```b``` listára, hiszen az most valóban egy fizikailag különálló, önálló lista."
   ]
  },
  {
   "cell_type": "markdown",
   "id": "ee64cccf-d193-46ce-8850-a7565c5f3cfa",
   "metadata": {},
   "source": [
    "* ```index```\n",
    "\n",
    "Paraméterül adott érték jobbról az első előfordulásának indexét adja eredményül."
   ]
  },
  {
   "cell_type": "code",
   "execution_count": 24,
   "id": "4741b01f-f7e2-4ddb-b824-4f76d26723ce",
   "metadata": {},
   "outputs": [
    {
     "name": "stdout",
     "output_type": "stream",
     "text": [
      "['passiógyümölcs', 'szilva', 'földicseresznye', 'körte']\n",
      "1\n"
     ]
    }
   ],
   "source": [
    "print(fruits)\n",
    "\n",
    "print(fruits.index(\"szilva\"))"
   ]
  },
  {
   "cell_type": "markdown",
   "id": "00a22b84-009c-45f0-838b-e452be69d8a9",
   "metadata": {},
   "source": [
    "Ha olyan elem indexét kérjük le, ami nem szerepel a listán, akkor hibát fogunk kapni."
   ]
  },
  {
   "cell_type": "code",
   "execution_count": 25,
   "id": "daa9b04a-45c6-451e-a943-1ca69c6d9c59",
   "metadata": {},
   "outputs": [
    {
     "ename": "ValueError",
     "evalue": "'alma' is not in list",
     "output_type": "error",
     "traceback": [
      "\u001b[0;31m---------------------------------------------------------------------------\u001b[0m",
      "\u001b[0;31mValueError\u001b[0m                                Traceback (most recent call last)",
      "Input \u001b[0;32mIn [25]\u001b[0m, in \u001b[0;36m<cell line: 1>\u001b[0;34m()\u001b[0m\n\u001b[0;32m----> 1\u001b[0m \u001b[38;5;28mprint\u001b[39m(\u001b[43mfruits\u001b[49m\u001b[38;5;241;43m.\u001b[39;49m\u001b[43mindex\u001b[49m\u001b[43m(\u001b[49m\u001b[38;5;124;43m\"\u001b[39;49m\u001b[38;5;124;43malma\u001b[39;49m\u001b[38;5;124;43m\"\u001b[39;49m\u001b[43m)\u001b[49m)\n",
      "\u001b[0;31mValueError\u001b[0m: 'alma' is not in list"
     ]
    }
   ],
   "source": [
    "print(fruits.index(\"alma\"))"
   ]
  },
  {
   "cell_type": "markdown",
   "id": "5948a419-b21a-4932-adec-462ea55b33da",
   "metadata": {},
   "source": [
    "Egy elágazással és az ```in``` művelettek kombinálva jól használható olyan esetben is, ha nem tudjuk, hogy a keresett elem biztosan szerepel e a listán."
   ]
  },
  {
   "cell_type": "code",
   "execution_count": 26,
   "id": "9a5603bb-b2b5-47d7-85fa-81542929aa34",
   "metadata": {},
   "outputs": [
    {
     "name": "stdout",
     "output_type": "stream",
     "text": [
      "alma nincs a listán!\n"
     ]
    }
   ],
   "source": [
    "fruit = \"alma\"\n",
    "\n",
    "if fruit in fruits:\n",
    "    print(fruits.index(fruit))\n",
    "else:\n",
    "    print(fruit, \"nincs a listán!\")"
   ]
  },
  {
   "cell_type": "markdown",
   "id": "ed1df954-7c8a-4628-9651-4af0379df232",
   "metadata": {},
   "source": [
    "* ```insert```\n",
    "\n",
    "Meghatározott pozícióra helyezi a megadott új elemet."
   ]
  },
  {
   "cell_type": "code",
   "execution_count": 27,
   "id": "9bf6869d-38b5-4b7b-b33e-42d261857196",
   "metadata": {},
   "outputs": [
    {
     "name": "stdout",
     "output_type": "stream",
     "text": [
      "['passiógyümölcs', 'szilva', 'földicseresznye', 'körte']\n",
      "['passiógyümölcs', 'eper', 'szilva', 'földicseresznye', 'körte']\n"
     ]
    }
   ],
   "source": [
    "print(fruits)\n",
    "fruits.insert(1, \"eper\")\n",
    "print(fruits)"
   ]
  },
  {
   "cell_type": "markdown",
   "id": "c889013e-d697-43ab-9b9c-647ef4125b4c",
   "metadata": {},
   "source": [
    "* ```pop```\n",
    "\n",
    "A paraméterként megadott indexen található elemet kiveszi a listáról és ez az elem lesz a visszatérési értéke. "
   ]
  },
  {
   "cell_type": "code",
   "execution_count": 28,
   "id": "12b6da6f-df5f-4914-b7e0-f3bb9f5d73d9",
   "metadata": {},
   "outputs": [
    {
     "name": "stdout",
     "output_type": "stream",
     "text": [
      "['passiógyümölcs', 'eper', 'szilva', 'földicseresznye', 'körte']\n",
      "eper\n",
      "['passiógyümölcs', 'szilva', 'földicseresznye', 'körte']\n"
     ]
    }
   ],
   "source": [
    "print(fruits)\n",
    "\n",
    "fruit = fruits.pop(1)\n",
    "\n",
    "print(fruit)\n",
    "print(fruits)"
   ]
  },
  {
   "cell_type": "markdown",
   "id": "4cdeae5c-b50a-4379-8ef6-18fb16ccf9af",
   "metadata": {},
   "source": [
    "Ha paraméter nélkül hívjuk a ```pop``` függvényt, akkor mindig az utolsó elemet veszi ki a listáról."
   ]
  },
  {
   "cell_type": "code",
   "execution_count": 29,
   "id": "e40723d5-fcba-462c-8b32-4303329b5aa7",
   "metadata": {},
   "outputs": [
    {
     "name": "stdout",
     "output_type": "stream",
     "text": [
      "['passiógyümölcs', 'szilva', 'földicseresznye', 'körte']\n",
      "körte\n",
      "['passiógyümölcs', 'szilva', 'földicseresznye']\n"
     ]
    }
   ],
   "source": [
    "print(fruits)\n",
    "\n",
    "fruit = fruits.pop()\n",
    "\n",
    "print(fruit)\n",
    "print(fruits)"
   ]
  },
  {
   "cell_type": "markdown",
   "id": "bff5835b-b1de-4987-8268-757cc498307c",
   "metadata": {},
   "source": [
    "Paraméter nélküli alkalmazása a leggyakoribb. Ezzel a művelettel, valamint az ```append``` művelettel együttesen [verem (stack)](https://en.wikipedia.org/wiki/Stack_(abstract_data_type)) adatszerkezetként tudjuk felhasználni a listát. A verem sajátossága, hogy azt úgy kezeljük, hogy csak a végére tudunk elemeket helyezni, és csak a végéről tudunk elemet kiolvasni.\n",
    "\n",
    "Ilyen módon működik például a böngészők \"vissza\" gombja mögötti mechanizmus, ahol az előzmények kerülnek egy verembe és a gomb megnyomásával mindig a verem tetején található oldalt érjük csak el, azaz a legutóbbit. De verem segítségével valósítható meg a klasszikus [fordított lengyel jelölés](https://en.wikipedia.org/wiki/Reverse_Polish_notation) is, aritmetikai műveletek kiértékelése céljából."
   ]
  },
  {
   "cell_type": "markdown",
   "id": "82879281-9052-4448-a5fa-d3b0e39d4668",
   "metadata": {},
   "source": [
    "* ```sort```\n",
    "\n",
    "A lista elemeit rendezi."
   ]
  },
  {
   "cell_type": "code",
   "execution_count": 30,
   "id": "da683895-fcbf-4009-a0ce-50f06c878c09",
   "metadata": {},
   "outputs": [
    {
     "name": "stdout",
     "output_type": "stream",
     "text": [
      "[7, 2, 4, 1, 45, -1, -97, 0, -2, 1, 6]\n",
      "[-97, -2, -1, 0, 1, 1, 2, 4, 6, 7, 45]\n"
     ]
    }
   ],
   "source": [
    "nums = [7, 2, 4, 1, 45, -1, -97, 0, -2, 1, 6]\n",
    "print(nums)\n",
    "nums.sort()\n",
    "print(nums)"
   ]
  },
  {
   "cell_type": "markdown",
   "id": "258aa3e4-80ac-4f4d-b024-d06cc6643f50",
   "metadata": {},
   "source": [
    "Alapértelmezetten növekvő sorrendben rendez. A ```reverse``` paramétere segítségével módosíthatunk a sorrenden."
   ]
  },
  {
   "cell_type": "code",
   "execution_count": 31,
   "id": "84712c0d-e8d3-43ad-93ad-d1ecd947615d",
   "metadata": {},
   "outputs": [
    {
     "name": "stdout",
     "output_type": "stream",
     "text": [
      "[7, 2, 4, 1, 45, -1, -97, 0, -2, 1, 6]\n",
      "[45, 7, 6, 4, 2, 1, 1, 0, -1, -2, -97]\n"
     ]
    }
   ],
   "source": [
    "nums = [7, 2, 4, 1, 45, -1, -97, 0, -2, 1, 6]\n",
    "print(nums)\n",
    "nums.sort(reverse=True)\n",
    "print(nums)"
   ]
  },
  {
   "cell_type": "markdown",
   "id": "168def6d-ce21-4029-a098-4e15aadaacbb",
   "metadata": {},
   "source": [
    "* reverse\n",
    "\n",
    "Segítségével a listát meg tudjuk fordítani, azaz ami eddig az első elem volt, most az lesz az utolsó, utolsó elem került az első helyre, és így tovább."
   ]
  },
  {
   "cell_type": "code",
   "execution_count": 32,
   "id": "0807fbf5-08e1-4ed7-8306-76fe95ac7078",
   "metadata": {},
   "outputs": [
    {
     "name": "stdout",
     "output_type": "stream",
     "text": [
      "Fordítás előtt: [45, 7, 6, 4, 2, 1, 1, 0, -1, -2, -97]\n",
      "Fordítás után: [-97, -2, -1, 0, 1, 1, 2, 4, 6, 7, 45]\n"
     ]
    }
   ],
   "source": [
    "print(\"Fordítás előtt:\", nums)\n",
    "nums.reverse()\n",
    "print(\"Fordítás után:\", nums)"
   ]
  },
  {
   "cell_type": "markdown",
   "id": "9461151e-2d26-4e1f-8cae-f64c9246828a",
   "metadata": {},
   "source": [
    "Fontos, hogy a ```reverse``` függvény helyben fordítja meg a lista elemeit. Tehát nem a visszatérési értéke lesz egy új lista, amely az eredeti lista elemeit tartalmazza fordított sorrendben. Hanem az eredeti listán hajtja végre a módosítást."
   ]
  },
  {
   "cell_type": "markdown",
   "id": "74ad8731-cfe7-49ab-be59-de2ed29b5f40",
   "metadata": {},
   "source": [
    "[Bővebben a listák műveleteiről](https://docs.python.org/3/tutorial/datastructures.html#more-on-lists)\n",
    "\n",
    "Létezik a ```list``` függvény is. Ennek segítségével nem listából listát tudunk generálni. Több objektum is létezik, amikből listát tudunk generálni. Az eddig tanultak közül még csak a string ilyen. Ha a ```list``` függvénynek átadunk egy ```str``` típust paraméterként, akkor abból visszatérési értékként készít egy olyan listát, amely a bemeneti szöveg egyes karaktereit fogja tartalmazni."
   ]
  },
  {
   "cell_type": "code",
   "execution_count": 33,
   "id": "afc97f2c-bc04-4fa8-bfa4-17da11120dc2",
   "metadata": {},
   "outputs": [
    {
     "name": "stdout",
     "output_type": "stream",
     "text": [
      "Python\n",
      "['P', 'y', 't', 'h', 'o', 'n']\n"
     ]
    }
   ],
   "source": [
    "s = \"Python\"\n",
    "l = list(s)\n",
    "print(s)\n",
    "print(l)"
   ]
  },
  {
   "cell_type": "markdown",
   "id": "c00c5fb2-9a9e-4753-8d80-b8974dc424d2",
   "metadata": {},
   "source": [
    "Az ```str``` típus esetén létezik a ```split``` függvény, melynek segítségével az adott szövegből listát tudunk generálni olyan módon, hogy a szóközöknél feldarabolja a szöveget és az így képzett rész-string-ek lesznek a generált lista egyes elemei."
   ]
  },
  {
   "cell_type": "code",
   "execution_count": 34,
   "id": "564bbb7c-91d9-426f-967c-628a81bf0514",
   "metadata": {},
   "outputs": [
    {
     "name": "stdout",
     "output_type": "stream",
     "text": [
      "Python alapok informatikusoknak\n",
      "['Python', 'alapok', 'informatikusoknak']\n"
     ]
    }
   ],
   "source": [
    "t = \"Python alapok informatikusoknak\"\n",
    "l = t.split()\n",
    "print(t)\n",
    "print(l)"
   ]
  },
  {
   "cell_type": "markdown",
   "id": "bedfbc5f-a97c-4089-919c-0001f57c81fa",
   "metadata": {},
   "source": [
    "Lehetőségünk van arra, hogy ne szóközök mentén, hanem tetszőleges szövegrészlet mentén szabdaljunk fel egy szöveget. Például csv formátumú, potnosvesszővel tagolt szöveget is fel tudunk ilyen módon bontani."
   ]
  },
  {
   "cell_type": "code",
   "execution_count": 35,
   "id": "ac67a77b-c338-4f89-8458-d84df6823352",
   "metadata": {},
   "outputs": [
    {
     "name": "stdout",
     "output_type": "stream",
     "text": [
      "['4', '0', '6', '5', '3', '-2', '-9', '0', '4', '8', '-2', '4', '1']\n"
     ]
    }
   ],
   "source": [
    "data_raw = \"4;0;6;5;3;-2;-9;0;4;8;-2;4;1\"\n",
    "data = data_raw.split(\";\")\n",
    "print(data)"
   ]
  },
  {
   "cell_type": "markdown",
   "id": "bc5f81dc-9cff-4707-813b-090a139e0b37",
   "metadata": {},
   "source": [
    "Itt amire érdemes ügyelni, hogy az ilyen módon képzett lista elemei továbbr is string-ek maradnak, akkor is, ha egyébként a feldarabolt egységek csak számokat tartalmaznak. De ez nem okoz gondot. Eddigi tudásunk alapján ezt egyszerűen tudjuk orvosolni:"
   ]
  },
  {
   "cell_type": "code",
   "execution_count": 36,
   "id": "648fe253-ee98-4f2b-92a0-f14516106108",
   "metadata": {},
   "outputs": [
    {
     "name": "stdout",
     "output_type": "stream",
     "text": [
      "[4, 0, 6, 5, 3, -2, -9, 0, 4, 8, -2, 4, 1]\n"
     ]
    }
   ],
   "source": [
    "# Ciklusváltozó\n",
    "i = 0\n",
    "\n",
    "# A ciklussal végig járjuk a data lista elemeit.\n",
    "while i < len(data):\n",
    "    # Az i-edik elemét az int függvénnyel egésszé konvertáljuk, majd el mentjük a listában az  eredeti pozíciójára.\n",
    "    data[i] = int(data[i])\n",
    "    # A ciklusváltozó inkrementálását nem felejtjük el.\n",
    "    i += 1\n",
    "\n",
    "# A kiírt lista most már csak int-eket tartalmaz.\n",
    "print(data)"
   ]
  },
  {
   "cell_type": "markdown",
   "id": "b643e36b-7a09-4289-b6f0-ae3fb778da4c",
   "metadata": {},
   "source": [
    "Előfordulhat olyan szituáció, hogy a generált lista elemeit számmá szeretnénk alakítani, de tegyük fel, hogy valamiért szükségünk van az eredeti, szöveget tartalmaző listára is. Ilyenkor tehetjük azt, hogy nem az eredeti lista elemeit változtatjuk, hanem egy új listába fűzzük össze az új értékeket."
   ]
  },
  {
   "cell_type": "code",
   "execution_count": 37,
   "id": "d28ac942-0899-41f8-9bc6-d4480042f261",
   "metadata": {},
   "outputs": [
    {
     "name": "stdout",
     "output_type": "stream",
     "text": [
      "['4', '0', '6', '5', '3', '-2', '-9', '0', '4', '8', '-2', '4', '1']\n",
      "[4, 0, 6, 5, 3, -2, -9, 0, 4, 8, -2, 4, 1]\n"
     ]
    }
   ],
   "source": [
    "# Bemenete nyers adat csv formában.\n",
    "data_raw = \"4;0;6;5;3;-2;-9;0;4;8;-2;4;1\"\n",
    "# Felszabdalt szöveg listában\n",
    "data_str = data_raw.split(\";\")\n",
    "\n",
    "# Üres listát hozunk létre. Itt fogjuk tárolni a data_str elemeit egésszé alakítva.\n",
    "data_int = []\n",
    "\n",
    "# Ciklusváltozó\n",
    "i = 0\n",
    "\n",
    "# A ciklussal végig járjuk a data_str lista elemeit.\n",
    "while i < len(data_str):\n",
    "    # A data_str i-edik elemét egésszé alakítjuk, majd hozzá fűzzük a data_int lista végére.\n",
    "    data_int.append(int(data_str[i]))\n",
    "    # Ciklus változó inkrementálása.\n",
    "    i += 1\n",
    "\n",
    "# Látjuk, hogy a két lista \"ugyanazokat\" az elemeket tartalmazza, csak más-más adattípusban tárolva.\n",
    "print(data_str)\n",
    "print(data_int)\n"
   ]
  },
  {
   "cell_type": "markdown",
   "id": "8a440d5d-d225-47ab-a0c2-f990e89c8f48",
   "metadata": {},
   "source": [
    "#### Feladat: Mátrix összeadás\n",
    "\n",
    "Tároljunk el két mátrixot egy-egy ```list``` segítségével és képezzük a két mátrix összegét egy harmadik listában.\n",
    "\n",
    "A mátrix két dimenziós. Ezt úgy tudjuk  megoldani, hogy ha a listánk további listákat tartalmaz. Legyenek a mátrixaink 3 szélesek és 2 magasak. Ezt tároljuk egy olyan 3 elemű listában, melynek mindhárom eleme egy-egy két elemű lista."
   ]
  },
  {
   "cell_type": "code",
   "execution_count": 38,
   "id": "f280fc10-f019-4ce9-bc4d-ac9dc0ffbcee",
   "metadata": {},
   "outputs": [
    {
     "name": "stdout",
     "output_type": "stream",
     "text": [
      "[[10, 10], [10, 10], [10, 10]]\n"
     ]
    }
   ],
   "source": [
    "# Az A és a B a bemeneti 3*2 méretű mátrixok\n",
    "A = [[1, 2], [3, 4], [5, 6]]\n",
    "B = [[9, 8], [7, 6], [5, 4]]\n",
    "\n",
    "# A C lesz a kimeneti mátrix, kezdetben üres.\n",
    "C = []\n",
    "\n",
    "# Ciklusváltozó\n",
    "i = 0\n",
    "\n",
    "# Az i-vel 0-tól 3-ig számolunk. \n",
    "# Itt a len(A) helyett lehetne len(B) is. \n",
    "# Belátható, hogy mindegy melyik mátrixnak kérdezzük le a külső dimenzióméretét.\n",
    "while i < len(A):\n",
    "    # A belső dimenzióhoz tartozó ciklusváltozót inicializáljuk.\n",
    "    j = 0\n",
    "    # A kimeneti mátrixnak létrehozzunk a következő, kezdetben üres elemét.\n",
    "    C.append([])\n",
    "    # A belső ciklus segítségével az előző utasítás során létrehozott belső listát töltjük fel.\n",
    "    # Lássuk, hogy itt is lehetne len(A[i]) helyett len(B[i]).\n",
    "    while j < len(A[i]):\n",
    "        # Az A és a B mátrixok (i, j)-edik elemeit összeadjuk és hozzáadjuk  a C listához.\n",
    "        C[i].append(A[i][j] + B[i][j])\n",
    "        # A belső ciklus ciklusváltozóját inkrementáljuk.\n",
    "        j += 1\n",
    "    # A külső ciklus ciklusváltozóját inkrementáljuk.\n",
    "    i += 1\n",
    "\n",
    "print(C)"
   ]
  },
  {
   "cell_type": "markdown",
   "id": "8f30c1bc-68a0-4fe0-a95d-5a10bf20cf55",
   "metadata": {},
   "source": [
    "### Rendezett n-es (```tuple```)"
   ]
  },
  {
   "cell_type": "markdown",
   "id": "51074f65-1a74-4b34-a200-034ef71ef79a",
   "metadata": {},
   "source": [
    "A rendezett n-es (a továbbiakban a egyszerűség kedvéért az angol nevén: tuple), nagyon hasonló a listához (```list```). Szintén tetszőleges típusú és menyiségű elemet tárolhatunk el benne rendezetten. A legfontosabb eltérés, hogy a ```tuple``` esetén az elemek utólag nem módosíthatók. Ilyen tekintetben kicsit hasonló az ```str```-hez. Ránézésre onnan tudjuk megkülönböztetni, hogy amíg a ```list``` elemei szögletes zárójelpárban íródnak, addig a ```tuple``` elemeit kerek zárójelpárban helyezzük el. Ezt érdems észben tartani és nem összekeverni! Akár nehezen kiszúrható hibát generálhatunk vele, ami sok bosszúságot okozhat!"
   ]
  },
  {
   "cell_type": "code",
   "execution_count": 39,
   "id": "2e156e09-000b-4b64-ad0e-56816083e851",
   "metadata": {},
   "outputs": [
    {
     "name": "stdout",
     "output_type": "stream",
     "text": [
      "(1, 2, 3)\n",
      "3\n",
      "1\n",
      "3\n",
      "(2, 3)\n",
      "<class 'tuple'>\n"
     ]
    }
   ],
   "source": [
    "t = (1, 2, 3)\n",
    "print(t)\n",
    "print(len(t))\n",
    "print(t[0])\n",
    "print(t[-1])\n",
    "print(t[1:])\n",
    "print(type(t))"
   ]
  },
  {
   "cell_type": "markdown",
   "id": "447f400b-ec19-44b2-89b5-1e078ea1a90e",
   "metadata": {},
   "source": [
    "A fentiek alapján minden ugyanúgy működik, mint a listák esetén. De az értékeket módosítani nem tudjuk:"
   ]
  },
  {
   "cell_type": "code",
   "execution_count": 40,
   "id": "01f6cbc6-fd94-425a-b5e7-cfdd1e3806d7",
   "metadata": {},
   "outputs": [
    {
     "ename": "TypeError",
     "evalue": "'tuple' object does not support item assignment",
     "output_type": "error",
     "traceback": [
      "\u001b[0;31m---------------------------------------------------------------------------\u001b[0m",
      "\u001b[0;31mTypeError\u001b[0m                                 Traceback (most recent call last)",
      "Input \u001b[0;32mIn [40]\u001b[0m, in \u001b[0;36m<cell line: 1>\u001b[0;34m()\u001b[0m\n\u001b[0;32m----> 1\u001b[0m \u001b[43mt\u001b[49m\u001b[43m[\u001b[49m\u001b[38;5;241;43m0\u001b[39;49m\u001b[43m]\u001b[49m \u001b[38;5;241m=\u001b[39m \u001b[38;5;241m-\u001b[39m\u001b[38;5;241m9\u001b[39m\n",
      "\u001b[0;31mTypeError\u001b[0m: 'tuple' object does not support item assignment"
     ]
    }
   ],
   "source": [
    "t[0] = -9"
   ]
  },
  {
   "cell_type": "markdown",
   "id": "7ffa3181-6b9a-4b09-b6a9-6a6aff6adb00",
   "metadata": {},
   "source": [
    "Ebből fakadóan új elemet hozzáfűzni sem lehet semmilyen módon. Így a ```list``` esetén ismertetett műveletek sem értelmezhetők (pl. ```append```, ```pop```, ```clear``` stb.)\n",
    "\n",
    "Összefűzésre van lehetőségünk, hiszen ilyenkor nem a meglévő ```tuple``` objektumokat akarjuk módosítjuk, hanem a meglévőkből generálunk újat."
   ]
  },
  {
   "cell_type": "code",
   "execution_count": 41,
   "id": "1209145d-f7d4-49b8-9f42-6eb13cb562aa",
   "metadata": {},
   "outputs": [
    {
     "name": "stdout",
     "output_type": "stream",
     "text": [
      "(1, 2, 3, 4, 5, 6)\n"
     ]
    }
   ],
   "source": [
    "t0 = (1, 2, 3)\n",
    "t1 = (4, 5, 6)\n",
    "t2 = t0 + t1\n",
    "print(t2)"
   ]
  },
  {
   "cell_type": "markdown",
   "id": "6436d2bc-bd08-441f-b91b-0f1536f3b614",
   "metadata": {},
   "source": [
    "Bár ritka, de a lehetőség nyitott arra, hogy 1 elemű ```tuple```-t hozzunk létre. Az eddigiek alapján jogosan gondolhatjuk azt, hogy ezt a következő módon tehetjük meg:"
   ]
  },
  {
   "cell_type": "code",
   "execution_count": 42,
   "id": "18e9cc57-2b66-4cba-a07f-662629d60a68",
   "metadata": {},
   "outputs": [],
   "source": [
    "t = (8)"
   ]
  },
  {
   "cell_type": "markdown",
   "id": "40377ea8-e003-483d-b7db-462680924715",
   "metadata": {},
   "source": [
    "De ez sajnos nem így van. Nézüzk meg ```t``` mit tartalmaz és milyen típusú lett:"
   ]
  },
  {
   "cell_type": "code",
   "execution_count": 43,
   "id": "85d6604d-5e6f-4e46-b292-f49a7d2a19a7",
   "metadata": {},
   "outputs": [
    {
     "name": "stdout",
     "output_type": "stream",
     "text": [
      "8\n",
      "<class 'int'>\n"
     ]
    }
   ],
   "source": [
    "print(t)\n",
    "print(type(t))"
   ]
  },
  {
   "cell_type": "markdown",
   "id": "f34c04e0-f5cf-4502-978b-b2d830e84a19",
   "metadata": {},
   "source": [
    "A ```t``` változó a 8-as értéket tárolja és ennek megfelelően ```int``` típusú lett. De mi nem ezt szerettük volna, hanem olyan ```tuple``` adatszerkezetet szeretnénk, aminek egyetlen eleme van, a 8-as.\n",
    "\n",
    "A fenti esettel az a gond, hogy a fordító ezt matematikai kifejezésként értelmezi és ennek megfelelően dolgozza fel. Ami jelen esetben annyit tesz, hogy a felesleges zárójelezést eltávolítja és a kifejezés eredménye a 8 lesz, ami egész  szám. Ez így tulajdonképpen logikus is.\n",
    "\n",
    "Na de hogyan tudunk mégis egy elemű ```tuple```-t létrehozni?\n",
    "\n",
    "Erre a következő jelölés került bevezetésre:"
   ]
  },
  {
   "cell_type": "code",
   "execution_count": 44,
   "id": "033f69ae-d5e5-4f75-8679-39c2d7e379a0",
   "metadata": {},
   "outputs": [
    {
     "name": "stdout",
     "output_type": "stream",
     "text": [
      "(8,)\n",
      "1\n",
      "<class 'tuple'>\n"
     ]
    }
   ],
   "source": [
    "t = (8,)\n",
    "print(t)\n",
    "print(len(t))\n",
    "print(type(t))"
   ]
  },
  {
   "cell_type": "markdown",
   "id": "f735b4d2-e12f-4ea5-851f-118e9c8cc9ee",
   "metadata": {},
   "source": [
    "A ```tuple``` egyetlen eleme után egy vesszőt teszünk. Ez látszólag feleslegesnek tűnik, de azért kell, mert különben matematikai kifejezésként értelmezné a fordító a leírtakat."
   ]
  },
  {
   "cell_type": "markdown",
   "id": "60e5f9d7-4736-409b-bef7-176eab7f65f8",
   "metadata": {},
   "source": [
    "Korábban láttuk már, hogy egyszerre, egy sorban több változónak is tudunk értéket adni. Ha egy ```tuple```elemeit szeretnénk valemiért külön változókba helyezni, akkor hasonló módon itt is  alkalmazhatjuk ezt:"
   ]
  },
  {
   "cell_type": "code",
   "execution_count": 45,
   "id": "0d496b74-8d4a-48f1-8556-905bfb806569",
   "metadata": {},
   "outputs": [
    {
     "name": "stdout",
     "output_type": "stream",
     "text": [
      "(10.023, -0.901, 3.012)\n",
      "10.023 -0.901 3.012\n"
     ]
    }
   ],
   "source": [
    "point = (10.023, -0.901, 3.012)\n",
    "x, y, z = point\n",
    "print(point)\n",
    "print(x, y, z)"
   ]
  },
  {
   "cell_type": "markdown",
   "id": "2604d654-d01e-46f2-8681-3f0e067576fb",
   "metadata": {},
   "source": [
    "A fenti módszer listák esetén is működik  természetesen.\n",
    "\n",
    "A ```tuple``` függvény segítségével ```tuple``` objektumot tudunk létrehozni. A ```list``` függvénynél láttuk, hogy ```str```-ből tudunk ```list```-et gyártani. Hasonló módon a ```tuple``` függvény ```tuple``` objektumot készít tetszőleges szövegből:"
   ]
  },
  {
   "cell_type": "code",
   "execution_count": 46,
   "id": "db593ac1-7c41-48a6-9a9e-5fc82b6fc32f",
   "metadata": {},
   "outputs": [
    {
     "name": "stdout",
     "output_type": "stream",
     "text": [
      "('p', 'y', 't', 'h', 'o', 'n')\n",
      "6\n"
     ]
    }
   ],
   "source": [
    "t = tuple(\"python\")\n",
    "print(t)\n",
    "print(len(t))"
   ]
  },
  {
   "cell_type": "markdown",
   "id": "5424eab3-d1a8-422d-8c60-5bb4ee18e2b1",
   "metadata": {},
   "source": [
    "A ```list``` és ```tuple``` függvényeket arra is használhatjuk, hogy ```tuple```-ből ```list```-et és ```list```-ből ```tuple```-t generáljunk."
   ]
  },
  {
   "cell_type": "code",
   "execution_count": 47,
   "id": "58e506f2-5742-460b-afe3-56ca3a1cb49f",
   "metadata": {},
   "outputs": [
    {
     "name": "stdout",
     "output_type": "stream",
     "text": [
      "('p', 'y', 't', 'h', 'o', 'n') <class 'tuple'>\n",
      "['p', 'y', 't', 'h', 'o', 'n'] <class 'list'>\n",
      "('p', 'y', 't', 'h', 'o', 'n') <class 'tuple'>\n"
     ]
    }
   ],
   "source": [
    "t0 = tuple(\"python\")\n",
    "l0 = list(t0)\n",
    "t1 = tuple(l0)\n",
    "\n",
    "print(t0, type(t0))\n",
    "print(l0, type(l0))\n",
    "print(t1, type(t1))"
   ]
  },
  {
   "cell_type": "markdown",
   "id": "97ae1ea0-93a8-431f-be76-5a24ad161893",
   "metadata": {},
   "source": [
    "### Halmaz (```set```)\n",
    "\n",
    "A ```set``` segítségével a listához hasonló szerkezetet tudunk kialakítani. Viszont ebben az esetben a matematikai halmazok fő jellemzőivel rendelkezik a típus. Így az elemei nem rendezettek és minden elemet csak egyszer tartalmazhat. A renndezettség itt nyilván nem valós rendezettlenséget jelent, hiszen az elemeknek fizikálisan a memóriában valamilyen módon követniük kell egymást. Viszont nincs hozzájuk index rendelve, így az indexen keresztül nem is érjük el az  elemeit.\n",
    "\n",
    "A halmaz elemeit kapcsoszárójelpárban adjuk meg:"
   ]
  },
  {
   "cell_type": "code",
   "execution_count": 48,
   "id": "06a0abcc-6e75-4fd6-9019-a6fe1b6e2759",
   "metadata": {},
   "outputs": [
    {
     "name": "stdout",
     "output_type": "stream",
     "text": [
      "{1, 2, 3}\n",
      "<class 'set'>\n"
     ]
    }
   ],
   "source": [
    "s = {1, 2, 3}\n",
    "print(s)\n",
    "print(type(s))"
   ]
  },
  {
   "cell_type": "markdown",
   "id": "1f8a220c-b65a-4b90-a6af-0d684ffc56ed",
   "metadata": {},
   "source": [
    "Minden elemet egyszer tartalmazhat csak. Így ha egy elemet többször adunk meg, akkor csak az első kerül tárolásra:"
   ]
  },
  {
   "cell_type": "code",
   "execution_count": 49,
   "id": "256832cf-eed1-4f8d-a765-a3e38668ea84",
   "metadata": {},
   "outputs": [
    {
     "name": "stdout",
     "output_type": "stream",
     "text": [
      "{1, 2}\n"
     ]
    }
   ],
   "source": [
    "s = {1, 2, 1}\n",
    "print(s)"
   ]
  },
  {
   "cell_type": "markdown",
   "id": "f5c17a24-7b5e-4264-af3c-61541de24ada",
   "metadata": {},
   "source": [
    "A halmazok esetén is értelmezve van több hasznos beépített függvény. Ezek közül nézzünk meg néhányat!\n",
    "\n",
    "* ```add```\n",
    "\n",
    "Új elemet adhatunk a halmazhoz."
   ]
  },
  {
   "cell_type": "code",
   "execution_count": 50,
   "id": "86303409-6307-47ea-afb3-f1ed0830d6f8",
   "metadata": {},
   "outputs": [
    {
     "name": "stdout",
     "output_type": "stream",
     "text": [
      "{1, 2, 3}\n",
      "{1, 2, 3, 4}\n"
     ]
    }
   ],
   "source": [
    "s = {1, 2, 3}\n",
    "\n",
    "print(s)\n",
    "\n",
    "s.add(4)\n",
    "\n",
    "print(s)"
   ]
  },
  {
   "cell_type": "markdown",
   "id": "ee54117a-532a-445c-b041-b3f0ac471364",
   "metadata": {},
   "source": [
    "Ha az elemet már tartalmazza a halmaz, akkor nem törétnik változás, de hibát sem kapunk."
   ]
  },
  {
   "cell_type": "code",
   "execution_count": 51,
   "id": "00a45fca-4d15-4281-8be1-ef89f87c049f",
   "metadata": {},
   "outputs": [
    {
     "name": "stdout",
     "output_type": "stream",
     "text": [
      "{1, 2, 3, 4}\n"
     ]
    }
   ],
   "source": [
    "s.add(1)\n",
    "print(s)"
   ]
  },
  {
   "cell_type": "markdown",
   "id": "197356cd-1739-4f8e-8aa7-08c922e8aaf6",
   "metadata": {},
   "source": [
    "* ```clear```\n",
    "\n",
    "Kiüríti a halmazt. Üres halmaz esetén nem üres kapcsoszárójelpár jelenik meg (```{}```) a kimeneten, hanem a ```set()``` felíratot láthatjuk."
   ]
  },
  {
   "cell_type": "code",
   "execution_count": 52,
   "id": "45f4f7a4-f1ce-4b76-9082-fd3903878bc1",
   "metadata": {},
   "outputs": [
    {
     "name": "stdout",
     "output_type": "stream",
     "text": [
      "set()\n",
      "0\n"
     ]
    }
   ],
   "source": [
    "s.clear()\n",
    "print(s)\n",
    "print(len(s))"
   ]
  },
  {
   "cell_type": "markdown",
   "id": "bcf89ff8-52c7-4ff1-9ccd-bf42fb5bffc7",
   "metadata": {},
   "source": [
    "* ```copy```\n",
    "\n",
    "A eddigiekhez hasonlóan, most is másolatot tudunk készíteni az adatszerkezetből."
   ]
  },
  {
   "cell_type": "code",
   "execution_count": 53,
   "id": "87865d83-9782-4a89-9128-096d9e7a8659",
   "metadata": {},
   "outputs": [],
   "source": [
    "s0 = {1, 2, 3, 4}\n",
    "s1 = s0.copy()"
   ]
  },
  {
   "cell_type": "markdown",
   "id": "02ae8b4d-d146-4062-8526-cc947c42627f",
   "metadata": {},
   "source": [
    "* ```difference```\n",
    "\n",
    "Két halmaz különbségét adja meg. A példában ```s2``` azokat az ```s0```-beli elemeket tartalmazza, melyek ```s1```-ben nem találhatók meg. Az ```s3``` pedig azokból az ```s1```-beli elemekből áll, melyek ```s0```-ban nincsenek jelen."
   ]
  },
  {
   "cell_type": "code",
   "execution_count": 54,
   "id": "fa8fa7ba-67d4-473c-828a-e4611128fadb",
   "metadata": {},
   "outputs": [
    {
     "name": "stdout",
     "output_type": "stream",
     "text": [
      "s0 {1, 2, 3, 4}\n",
      "s1 {4, 5, 6, 7}\n",
      "s2 {1, 2, 3}\n",
      "s3 {5, 6, 7}\n"
     ]
    }
   ],
   "source": [
    "s0 = {1, 2, 3, 4}\n",
    "s1 = {4, 5, 6, 7}\n",
    "\n",
    "print(\"s0\", s0)\n",
    "print(\"s1\", s1)\n",
    "\n",
    "s2 = s0.difference(s1)\n",
    "print(\"s2\", s2)\n",
    "\n",
    "s3 = s1.difference(s0)\n",
    "print(\"s3\", s3)\n"
   ]
  },
  {
   "cell_type": "markdown",
   "id": "08b1a7d6-3b5d-4ddd-806d-09c115e99bd6",
   "metadata": {},
   "source": [
    "* ```discard```\n",
    "\n",
    "Paraméterül adott elemet eltávolítja a listából. Ha az elem nincs a listában, akkor nem történik semmi. "
   ]
  },
  {
   "cell_type": "code",
   "execution_count": 55,
   "id": "d235e1c1-a06a-4fe5-96f7-c6506e086842",
   "metadata": {},
   "outputs": [
    {
     "name": "stdout",
     "output_type": "stream",
     "text": [
      "{1, 2, 3, 4, 5}\n",
      "{1, 3, 4, 5}\n",
      "{1, 3, 4, 5}\n"
     ]
    }
   ],
   "source": [
    "s = {1, 2, 3, 4, 5}\n",
    "print(s)\n",
    "s.discard(2)\n",
    "print(s)\n",
    "s.discard(-1)\n",
    "print(s)"
   ]
  },
  {
   "cell_type": "markdown",
   "id": "e24ce63e-6699-406a-8716-cb7800018b65",
   "metadata": {},
   "source": [
    "* ```intersection```\n",
    "\n",
    "Két halmaz metszetét adja meg. Ha a metszet üres halmaz, akkor most is azt látjuk, hogy a kimeneten a ```set()``` felírat jelenik meg."
   ]
  },
  {
   "cell_type": "code",
   "execution_count": 56,
   "id": "7979cb1e-c618-4c8e-8426-fef4c5e06598",
   "metadata": {},
   "outputs": [
    {
     "name": "stdout",
     "output_type": "stream",
     "text": [
      "s0 {1, 2, 3, 4}\n",
      "s1 {4, 5, 6, 7}\n",
      "s2 {4}\n",
      "s4 set()\n"
     ]
    }
   ],
   "source": [
    "s0 = {1, 2, 3, 4}\n",
    "s1 = {4, 5, 6, 7}\n",
    "\n",
    "print(\"s0\", s0)\n",
    "print(\"s1\", s1)\n",
    "\n",
    "s2 = s0.intersection(s1)\n",
    "\n",
    "print(\"s2\", s2)\n",
    "\n",
    "s3 = {1, 2, 3}\n",
    "\n",
    "s4 = s3.intersection(s2)\n",
    "\n",
    "print(\"s4\", s4)"
   ]
  },
  {
   "cell_type": "markdown",
   "id": "6d076e47-e444-484d-8ed3-509ffe3f56ea",
   "metadata": {},
   "source": [
    "* ```union```\n",
    "\n",
    "Két halmaz unióját adja meg."
   ]
  },
  {
   "cell_type": "code",
   "execution_count": 57,
   "id": "77cb4e10-cbd0-461d-b62e-5dd8b4700a23",
   "metadata": {},
   "outputs": [
    {
     "name": "stdout",
     "output_type": "stream",
     "text": [
      "s0 {1, 2, 3, 4}\n",
      "s1 {4, 5, 6, 7}\n",
      "s2 {1, 2, 3, 4, 5, 6, 7}\n"
     ]
    }
   ],
   "source": [
    "s0 = {1, 2, 3, 4}\n",
    "s1 = {4, 5, 6, 7}\n",
    "\n",
    "print(\"s0\", s0)\n",
    "print(\"s1\", s1)\n",
    "\n",
    "s2 = s0.union(s1)\n",
    "\n",
    "print(\"s2\", s2)"
   ]
  },
  {
   "cell_type": "markdown",
   "id": "65e9be1a-0964-4926-8334-bee9d676db60",
   "metadata": {},
   "source": [
    "[Bővebben a halmazműveletekről.](https://www.w3schools.com/python/python_ref_set.asp)\n",
    "\n",
    "A listáknál láttuk, hogy üres listát úgy tudunk generálni, ha elemek felsorolása nélkül, csak egy zárójelpárt adunk meg. Gondolhatnánk, hogy ez a halmaz esetén is így van, de nem! A nagyobb problémát az okozza, hogy a ```{}``` művelet érvényes, de nem üres halmazt fog generálni, hanem üres szótárat (dictionary). A szótár adatszerkezetről később lesz szó.\n",
    "\n",
    "Ha üres halmazt szeretnénk létrehozni, akkor azt az alábbi módon tehetjük meg a ```set``` függvény segítségével:"
   ]
  },
  {
   "cell_type": "code",
   "execution_count": 58,
   "id": "36181e70-9f42-47f0-a004-5a162d24215d",
   "metadata": {},
   "outputs": [
    {
     "name": "stdout",
     "output_type": "stream",
     "text": [
      "set()\n",
      "0\n"
     ]
    }
   ],
   "source": [
    "s = set()\n",
    "print(s)\n",
    "print(len(s))"
   ]
  },
  {
   "cell_type": "markdown",
   "id": "1cd1212e-44a0-44ee-a71e-8e1624db8a1d",
   "metadata": {},
   "source": [
    "## For ciklus\n",
    "\n",
    "A ciklusok közül eddig csak a ```while``` ciklust használtuk. Most ismerkedjünk meg a ciklusok másik fajtájával, a ```for``` ciklussal. A ```for``` ciklus tulajdonképpen a ```while``` egyszerűsítésére lett bevezetve. A legtöbb esetben a ```while``` ciklust arra használtuk, hogy valamettől valameddig elszámoljunk vele. Tettük ezt például azért, mert meghatározott mennyiségű értéket be kellett kérni a felhasználótól, vagy mert egy lista elemein végig szerettünk volna iterálni. Ezt az esetet egyszerüsíti le a ```for``` ciklus.\n",
    "\n",
    "A ```for``` ciklus segítségével egy tetszőleges iterálható objektum elemein tudunk végig menni. Tipikusan ilyen a lista vagy tuple. Nézzünk rá egy példát!"
   ]
  },
  {
   "cell_type": "code",
   "execution_count": 59,
   "id": "386b0cc1-5820-4d84-8b63-eaa7e24f13d5",
   "metadata": {},
   "outputs": [
    {
     "name": "stdout",
     "output_type": "stream",
     "text": [
      "passiógyümölcs\n",
      "szilva\n",
      "földicseresznye\n"
     ]
    }
   ],
   "source": [
    "for fruit in fruits:\n",
    "    print(fruit)"
   ]
  },
  {
   "cell_type": "markdown",
   "id": "2592f413-9e0f-4fdb-b019-9744a1dfd1aa",
   "metadata": {},
   "source": [
    "A fenti ```for``` ciklussal a ```fruits``` listán iteráltunk végig. A ```fruit in fruits``` kifejezés azt jelenti, hogy a ```fruits``` lista elemein szeretnénk végig menni, és minden egyes iteráció során a következő elem a ```fruit``` nevű változóba kerüljön bele. Ezt a változót a cikluson belül fel tudjuk használni. A példában egyszerűen kiírattuk az értékét a ```print``` függvénnyel.\n",
    "\n",
    "A szemléltetés végett nézzük meg ugyanennek a megoldását ```while``` ciklus segítségével!"
   ]
  },
  {
   "cell_type": "code",
   "execution_count": 60,
   "id": "4891bb5b-9878-403d-8d16-217f9963b503",
   "metadata": {},
   "outputs": [
    {
     "name": "stdout",
     "output_type": "stream",
     "text": [
      "passiógyümölcs\n",
      "szilva\n",
      "földicseresznye\n"
     ]
    }
   ],
   "source": [
    "i = 0\n",
    "\n",
    "while i < len(fruits):\n",
    "    print(fruits[i])\n",
    "    i += 1"
   ]
  },
  {
   "cell_type": "markdown",
   "id": "2e477a52-cbb0-4a0c-86ce-52b221c21d54",
   "metadata": {},
   "source": [
    "A fenti ```while``` ciklus pontosan ugyanazt teszi, mint az előtte szereplő ```for``` ciklus. Mindkettő esetén a ```fruits``` listán mentünk végig.\n",
    "\n",
    "Vegyük észre, hogy mi a ```for``` ciklus előnye az ilyen jellegű feladatoknál!\n",
    "* Nincs szükségünk ciklusváltozóra. Itt a \"ciklusváltozó\" a ```fruit``` változó lesz, de ez már a konkrét elemet tartalmazza, nem kell indexelni a listát.\n",
    "* Mivel nincs ciklusváltozó, így azt inkrementálni sem kell. Ezzel ezt a hibalehetőséget kizártuk.\n",
    "* Ugyancsak a ciklusváltozó hiánya miatt azt inicializálni sem kell. Így még egy hibázási lehetőségtől megváltunk.\n",
    "\n"
   ]
  },
  {
   "cell_type": "markdown",
   "id": "ed1ebcd5-fbf9-4e35-8452-2d2c524bcc55",
   "metadata": {},
   "source": [
    "Felmerül a kérdés, hogy mi van akkor, ha nem egy konkrét lista vagy más iterálható objektum elemein szeretnénk végig iterálni, hanem egyszerűen csak n darab lépést szeretnénk végrehajtani. Erre is van megoldás a ```range``` függvény segítségével."
   ]
  },
  {
   "cell_type": "code",
   "execution_count": 61,
   "id": "9bb169ba-178e-425d-8c2f-ced7c5512eb1",
   "metadata": {},
   "outputs": [
    {
     "data": {
      "text/plain": [
       "range(0, 10)"
      ]
     },
     "execution_count": 61,
     "metadata": {},
     "output_type": "execute_result"
    }
   ],
   "source": [
    "range(10)"
   ]
  },
  {
   "cell_type": "markdown",
   "id": "9854e083-d49a-46a7-a4aa-f7334523eef0",
   "metadata": {},
   "source": [
    "A ```range``` függvény egy iterálható szekvenciát állít elő, amit arra tudunk használni, hogy egy listához hasonlóan, végig iteráljunk rajta. A szekvencia 0-tól a paraméterig megadott értékig fogja tartalmazni az egész számokat olyan módon, hogy a felső határérték már nem tartozik bele. Tehát a fenti példa esetén 0-tól 9-ig tudunk egyesével iterálni a ```range``` függvénnyel. Ezt a  következő módon használjuk fel:"
   ]
  },
  {
   "cell_type": "code",
   "execution_count": 62,
   "id": "e38b615e-ea69-4fc9-9645-517eea09ceaf",
   "metadata": {},
   "outputs": [
    {
     "name": "stdout",
     "output_type": "stream",
     "text": [
      "0\n",
      "1\n",
      "2\n",
      "3\n",
      "4\n",
      "5\n",
      "6\n",
      "7\n",
      "8\n",
      "9\n"
     ]
    }
   ],
   "source": [
    "for i in range(10):\n",
    "    print(i)"
   ]
  },
  {
   "cell_type": "markdown",
   "id": "6a9608bd-4467-44dc-a9f0-3aa5fea43093",
   "metadata": {},
   "source": [
    "A fenti kód azt csinálja, mintha azt mondtuk volna:"
   ]
  },
  {
   "cell_type": "code",
   "execution_count": 63,
   "id": "67e0b216-de71-4721-bed8-79ef76e838c9",
   "metadata": {},
   "outputs": [
    {
     "name": "stdout",
     "output_type": "stream",
     "text": [
      "0\n",
      "1\n",
      "2\n",
      "3\n",
      "4\n",
      "5\n",
      "6\n",
      "7\n",
      "8\n",
      "9\n"
     ]
    }
   ],
   "source": [
    "nums = (0, 1, 2, 3, 4, 5, 6, 7, 8, 9)\n",
    "\n",
    "for i in nums:\n",
    "    print(i)"
   ]
  },
  {
   "cell_type": "markdown",
   "id": "ad960d09-a408-4411-b2a2-b2d8e86d83ce",
   "metadata": {},
   "source": [
    "Tehát a ```range``` használata olyan, mintha generálnánk egy listát, ami a kívánt kezdőértéktől a kívánt végértékig tartalmazza az indexeket, és ezen a listán iterálnánk végig. Nyilván ez sokkal egyszerűbb és kézenfekvőbb a ```range``` segítségével, mint \"kézzel\" létrehozni ezt a listát."
   ]
  },
  {
   "cell_type": "markdown",
   "id": "e304aebe-b91b-4cb2-9cec-f684b1b06c3b",
   "metadata": {},
   "source": [
    "Ezzel a módszerrel a ```fruits``` listán így tudunk végig iterálni:"
   ]
  },
  {
   "cell_type": "code",
   "execution_count": 64,
   "id": "661971cb-1c96-4105-a76a-acf94595cb83",
   "metadata": {},
   "outputs": [
    {
     "name": "stdout",
     "output_type": "stream",
     "text": [
      "passiógyümölcs\n",
      "szilva\n",
      "földicseresznye\n"
     ]
    }
   ],
   "source": [
    "for i in range(len(fruits)):\n",
    "    print(fruits[i])"
   ]
  },
  {
   "cell_type": "markdown",
   "id": "f5b61661-4294-43be-a75c-158aafe63c08",
   "metadata": {},
   "source": [
    "Persze a fenti példa esetén nincs értelme a ```range``` függvényt használni, egyszerűbb lett volna pusztán a ```fruits``` listán bejárni.\n",
    "\n",
    "A ```range``` függvény használata akkor lehet célszerű, ha nem egy konkrét lista elemein szeretnénk végig menni, hanem fixen tudjuk előre, hogy egy meghatározott műveletet n-szer végre kell hajtani.\n",
    "\n",
    "Egyszerű példa: Kérjünk be ```n``` darab számot a felhasználótól és tároljuk el egy listában. A végén a lista tartalmát írjuk a képernyőre."
   ]
  },
  {
   "cell_type": "code",
   "execution_count": 65,
   "id": "dcdc0df5-0961-4cd7-9d5d-4b1204e6fd34",
   "metadata": {},
   "outputs": [
    {
     "name": "stdout",
     "output_type": "stream",
     "text": [
      "Kérem adjon meg 3 darab egész számot!\n"
     ]
    },
    {
     "name": "stdin",
     "output_type": "stream",
     "text": [
      "Kérem az 1. értéket: 4\n",
      "Kérem az 2. értéket: 9\n",
      "Kérem az 3. értéket: 3\n"
     ]
    },
    {
     "name": "stdout",
     "output_type": "stream",
     "text": [
      "A megadott számok:\n",
      "4\n",
      "9\n",
      "3\n"
     ]
    }
   ],
   "source": [
    "n = 3\n",
    "\n",
    "nums = []\n",
    "\n",
    "print(\"Kérem adjon meg \" + str(n) + \" darab egész számot!\")\n",
    "\n",
    "for i in range(n):\n",
    "     nums.append(int(input(\"Kérem az \" + str(i+1) + \". értéket:\")))\n",
    "\n",
    "print(\"A megadott számok:\")\n",
    "\n",
    "for num in nums:\n",
    "    print(num)\n",
    "    "
   ]
  },
  {
   "cell_type": "markdown",
   "id": "07823992-c696-4675-bfa1-f47cbff8c0ca",
   "metadata": {},
   "source": [
    "A fenti példánál látjuk, hogy az első ```for``` ciklussal nem egy listán iteráltunk végig, hanem meghatározott mennyiségszer végre kellett hajtani valamit. Jelen esetben ```n```-szer be kellett kérni a felhasználótól egy értéket, amit rögtön egésszé alakítottunk az ```int``` függvénnyel, majd az ```append``` segítségével hozzá is adtuk  a ```nums``` lista végére.\n",
    "\n",
    "A második ```for``` ciklusnál már más a helyzet. Itt arra használtuk, hogy a ```nums``` listát végig járjuk és kiírjuk minden elemét. Ugyan itt is lehetett volna használni a ```range``` függvényt, de vegyük észre, hogy feleslegesen bonyolítja a helyzetet:"
   ]
  },
  {
   "cell_type": "code",
   "execution_count": 66,
   "id": "d19e1165-c019-4769-b01b-0992ac199f0a",
   "metadata": {},
   "outputs": [
    {
     "name": "stdout",
     "output_type": "stream",
     "text": [
      "4\n",
      "9\n",
      "3\n"
     ]
    }
   ],
   "source": [
    "for i in range(len(nums)):\n",
    "    print(nums[i])"
   ]
  },
  {
   "cell_type": "markdown",
   "id": "483cc060-7d2b-462d-9635-00b2e534b421",
   "metadata": {},
   "source": [
    "A ```range``` függvényt további két módon tudjuk paraméterezni. Eddig láttuk, hogy segítségével 0-tól a paraméterként megadott értékig tudunk iterálni egyesével. Felmerülhet a kérdés, hogy mi van, ha nem 0-tól szeretnénk iterálni? És mi van, ha nem egyesével? Szerencsére mindkettőre nyújt megoldást a ```range``` függvény.\n",
    "\n",
    "Ha nem 0-tól, hanem egy általunk meghatározott kezdő értéktől szeretnénk iterálni, akkor két paraméterrel kell ellátni a ```range``` függvényt. Az első paraméter lesz az intervallum alsó fele, a második pedig a záró oldala."
   ]
  },
  {
   "cell_type": "code",
   "execution_count": 67,
   "id": "3df77b39-b9ae-4d83-93be-d3800be7bc9c",
   "metadata": {},
   "outputs": [
    {
     "name": "stdout",
     "output_type": "stream",
     "text": [
      "5\n",
      "6\n",
      "7\n",
      "8\n",
      "9\n"
     ]
    }
   ],
   "source": [
    "for i in range(5, 10):\n",
    "    print(i)"
   ]
  },
  {
   "cell_type": "code",
   "execution_count": 68,
   "id": "9d32e529-b49c-4177-b26e-9ad191b005eb",
   "metadata": {},
   "outputs": [
    {
     "name": "stdout",
     "output_type": "stream",
     "text": [
      "100\n",
      "101\n",
      "102\n",
      "103\n",
      "104\n",
      "105\n",
      "106\n",
      "107\n",
      "108\n",
      "109\n"
     ]
    }
   ],
   "source": [
    "for i in range(100, 110):\n",
    "    print(i)"
   ]
  },
  {
   "cell_type": "markdown",
   "id": "d89279f8-7764-4fc0-899a-411d12ee1253",
   "metadata": {},
   "source": [
    "Fontos, hogy most is az intervallum alulról zárt, felülről nyitott. Azaz a kezdő érték bele tartozik az iterálásba, de a záró érték már nem.\n",
    "\n",
    "A ```range``` függvény harmadik felhasználási esete, amikor a lépésközt is meg szeretnénk adni. Ez lesz a harmadik paramétere:"
   ]
  },
  {
   "cell_type": "code",
   "execution_count": 69,
   "id": "e169849f-79be-48ed-a05f-67b448e1471c",
   "metadata": {},
   "outputs": [
    {
     "name": "stdout",
     "output_type": "stream",
     "text": [
      "10\n",
      "12\n",
      "14\n",
      "16\n",
      "18\n"
     ]
    }
   ],
   "source": [
    "for i in range(10, 20, 2):\n",
    "    print(i)"
   ]
  },
  {
   "cell_type": "code",
   "execution_count": 70,
   "id": "e24c96a9-100d-4b80-89c4-105d1446a733",
   "metadata": {},
   "outputs": [
    {
     "name": "stdout",
     "output_type": "stream",
     "text": [
      "0\n",
      "3\n",
      "6\n",
      "9\n"
     ]
    }
   ],
   "source": [
    "for i in range(0, 10, 3):\n",
    "    print(i)"
   ]
  },
  {
   "cell_type": "markdown",
   "id": "1fa2d4da-d967-4089-b6dc-cd840b95771b",
   "metadata": {},
   "source": [
    "Ezt a módszert felhasználva lehetőségünk van arra is, hogy egy nagyobb értéktől iteráljunk egy kisebb értékig. Ilyenkor természetesen a lépésköz negatív előjelet kap:"
   ]
  },
  {
   "cell_type": "code",
   "execution_count": 71,
   "id": "d330ee6d-4f98-4c2a-a3ff-f9a8f55ee8c5",
   "metadata": {},
   "outputs": [
    {
     "name": "stdout",
     "output_type": "stream",
     "text": [
      "10\n",
      "9\n",
      "8\n",
      "7\n",
      "6\n",
      "5\n",
      "4\n",
      "3\n",
      "2\n",
      "1\n"
     ]
    }
   ],
   "source": [
    "for i in range(10, 0, -1):\n",
    "    print(i)"
   ]
  },
  {
   "cell_type": "markdown",
   "id": "8bf68226-2c82-44d3-ba30-65231fd6f8f6",
   "metadata": {},
   "source": [
    "A range függvény eredményét alapvetően arra használjuk, hogy egy ```for``` ciklussal iteráljunk végig az elemein. Néha szükségünk lehet arra, hogy ezekből listát, tuple-t, vagy halmazt generáljunk. Ezt meg tehetjük a ```list```, ```tuple``` és ```set``` függvények segítségével, ha paraméterül egy ```range``` függvényt adunk nekik."
   ]
  },
  {
   "cell_type": "code",
   "execution_count": 72,
   "id": "06c1973f-babe-4a74-8f62-552b95b914ec",
   "metadata": {},
   "outputs": [
    {
     "name": "stdout",
     "output_type": "stream",
     "text": [
      "[0, 1, 2, 3, 4, 5, 6, 7, 8, 9]\n",
      "(0, 1, 2, 3, 4, 5, 6, 7, 8, 9)\n",
      "{0, 1, 2, 3, 4, 5, 6, 7, 8, 9}\n"
     ]
    }
   ],
   "source": [
    "l = list(range(10))\n",
    "t = tuple(range(10))\n",
    "s = set(range(10))\n",
    "print(l)\n",
    "print(t)\n",
    "print(s)"
   ]
  },
  {
   "cell_type": "markdown",
   "id": "e8e4d19b-966c-40b2-ba1b-77c0f27e09c5",
   "metadata": {},
   "source": [
    "#### Feladat: Statisztika\n",
    "\n",
    "Kérjünk be a felhasználótól ```n```  darab számot, de előtte a felhasználó határozza meg a bekérendő számok mennyiségét is. A számokat tároljuk el egy listában. A bekérés után határozzuk meg a következő értékeket: maximum érték, minimum érték, átlag, medián."
   ]
  },
  {
   "cell_type": "code",
   "execution_count": 73,
   "id": "205894ab-e3a7-4ac9-828f-4b836ae445a4",
   "metadata": {},
   "outputs": [
    {
     "name": "stdin",
     "output_type": "stream",
     "text": [
      "Hány számot szeretne feldolgozni? 4\n",
      "Kérem az 1. értéket: 2\n",
      "Kérem az 2. értéket: 4\n",
      "Kérem az 3. értéket: 5\n",
      "Kérem az 4. értéket: 7\n"
     ]
    },
    {
     "name": "stdout",
     "output_type": "stream",
     "text": [
      "Minimum: 2.0\n",
      "Maximum: 7.0\n",
      "Átlag: 4.5\n"
     ]
    }
   ],
   "source": [
    "n = int(input(\"Hány számot szeretne feldolgozni?\"))\n",
    "\n",
    "data = []\n",
    "\n",
    "for i in range(n):\n",
    "    data.append(float(input(\"Kérem az \" + str(i + 1) + \". értéket:\")))\n",
    "\n",
    "min_value = data[0]\n",
    "max_value = data[0]\n",
    "avg_value = 0\n",
    "\n",
    "for d in data:\n",
    "    if d < min_value:\n",
    "        min_value = d\n",
    "    if d > max_value:\n",
    "        max_value = d\n",
    "    avg_value += d\n",
    "\n",
    "avg_value /= len(data)\n",
    "\n",
    "print(\"Minimum:\", min_value)\n",
    "print(\"Maximum:\", max_value)\n",
    "print(\"Átlag:\", avg_value)"
   ]
  },
  {
   "cell_type": "markdown",
   "id": "104585b6-fc22-4351-85da-0ec10ce0f3dc",
   "metadata": {},
   "source": [
    "A [medián](https://hu.wikipedia.org/wiki/Medi%C3%A1n) számítását nézzük meg külön, ez egy kicsit érdekesebb feladat. A medián meghatározásához sorba kell rendezi a lista elemeit és az ilyen módon kapott lista középső eleme lesz a medián. A sorba rendezéssel nincs gond, már tudjuk, hogy a ```sort``` függvénnyel ezt nagyon könnnyen megtehetjük. Az érdekesebb kérdés a középső elem kiválasztása. Középső elem nincs mindig egyértelműen. Például egy 3 elemű listának van, de egy 4 elemű lista esetén nincs. Ha a lista elemszáma páros, akkor azt mondjuk, hogy két középső eleme van és ennek a két elemnek az átlaga adja a mediánt. Tehát azt látjuk, hogy a mediánt vagy így vagy úgy számítjuk. Ez egy tipikus esete az elágazásnak. Próbáljuk meg ilyen módon megoldani."
   ]
  },
  {
   "cell_type": "code",
   "execution_count": 74,
   "id": "a37c9886-eb03-402c-9946-eacd7256791d",
   "metadata": {},
   "outputs": [
    {
     "name": "stdout",
     "output_type": "stream",
     "text": [
      "[2.0, 4.0, 5.0, 7.0]\n",
      "4.5\n"
     ]
    }
   ],
   "source": [
    "# Rendezzük a lista elemeit. A sort függvény hívása után a data lista már növekvő sorrendben tartalmazza a korábbi elemeit.\n",
    "data.sort()\n",
    "\n",
    "print(data)\n",
    "\n",
    "# Ha a data hossza páros, azaz kettővel osztva nulla a maradék, akkor két középső elem lesz.\n",
    "# Ellenkező esetben, azaz ha páratlan az elemszáma, akkor csak egy középső elem van. Ez utóbbi az egyszerűbb eset.\n",
    "if len(data) % 2 == 0:\n",
    "    # A két középső elem átlaga adja a medián.\n",
    "    median_value = (data[len(data)//2] + data[len(data)//2-1]) / 2\n",
    "else:\n",
    "    # Az egyetlen középső elem lesz a medián.\n",
    "    median_value = data[len(data)//2]\n",
    "\n",
    "print(median_value)"
   ]
  },
  {
   "cell_type": "markdown",
   "id": "037ca9a6-2237-44e5-a005-3edb8ce45249",
   "metadata": {},
   "source": [
    "Az érdekesebb eset az amikor két középső elemünk van. A ```len(data)//2``` minden esetben, amikor páros az elemszám, akkor a jobb oldali középső elemet fogja megadni. Ha az elemszám 2, akkor az 1. indexű elemet kapjuk. Ha az elemszám 4, akkor a 2. indexű elemet kapjuk. És így tovább. Ebből a bal oldali középső elemet úgy érjük el, ha kivonunk belőle egyet. Tehát a jobb oldali középső elemet a ```len(data)//2```, a bal oldalit pedig a ```len(data)//2-1``` indexen érjük el. A hagyományos osztással (```/```) ezeknek  a műveleteknek az eredménye mindig ```float``` lenne, amit ```int``` típusra kellene konvertálni. Erre megoldást jelent, ha az egész osztást (```//```) használjuk."
   ]
  }
 ],
 "metadata": {
  "kernelspec": {
   "display_name": "Python 3 (ipykernel)",
   "language": "python",
   "name": "python3"
  },
  "language_info": {
   "codemirror_mode": {
    "name": "ipython",
    "version": 3
   },
   "file_extension": ".py",
   "mimetype": "text/x-python",
   "name": "python",
   "nbconvert_exporter": "python",
   "pygments_lexer": "ipython3",
   "version": "3.8.10"
  }
 },
 "nbformat": 4,
 "nbformat_minor": 5
}
